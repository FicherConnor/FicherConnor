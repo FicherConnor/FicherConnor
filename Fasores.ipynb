{
  "nbformat": 4,
  "nbformat_minor": 0,
  "metadata": {
    "colab": {
      "name": "Fasores.ipynb",
      "provenance": [],
      "toc_visible": true,
      "include_colab_link": true
    },
    "kernelspec": {
      "name": "python3",
      "display_name": "Python 3"
    }
  },
  "cells": [
    {
      "cell_type": "markdown",
      "metadata": {
        "id": "view-in-github",
        "colab_type": "text"
      },
      "source": [
        "<a href=\"https://colab.research.google.com/github/FicherConnor/FicherConnor/blob/main/Fasores.ipynb\" target=\"_parent\"><img src=\"https://colab.research.google.com/assets/colab-badge.svg\" alt=\"Open In Colab\"/></a>"
      ]
    },
    {
      "cell_type": "markdown",
      "metadata": {
        "id": "yNv7d0WrgmYY"
      },
      "source": [
        "[![Open In Colab](https://colab.research.google.com/assets/colab-badge.svg)](https://colab.research.google.com/github/FerneyOAmaya//TransmissionLines/blob/master/Fasores.ipynb)\n",
        "\n",
        "# Números complejos y fasores con numpy\n",
        "\n",
        "Se presenta una introducción al empleo de números complejos y fasores, además de presentar como puede operarse empleando la librería **numpy** de Python.\n",
        "\n",
        "Se recomienda revisar el siguiente documento para recordar conceptos básicos de Python: <br>\n",
        "[Introducción a Python](https://nbviewer.jupyter.org/github/FerneyOAmaya/DataLiteracy/blob/master/0_Python.ipynb)\n",
        "<br>\n",
        "\n",
        "Por:\n",
        "\n",
        "Ferney Amaya Fernández\n",
        "https://ferneyoamaya.github.io/\n",
        "\n",
        "\n",
        "Contenido:\n",
        "1. Números complejos.\n",
        "2. Fasores con numpy.\n",
        "3. Representación fasorial.\n",
        "<br>Referencias."
      ]
    },
    {
      "cell_type": "markdown",
      "metadata": {
        "id": "Mg5gdfcZhLzw"
      },
      "source": [
        "## 1.Números complejos.\n",
        "\n",
        "Se emplea $j = \\sqrt{-1}$ para no confundir con el símbolo con el que normalmente se representa la corriente $i$.\n",
        "\n",
        "### 1.1. Representación\n",
        "\n",
        "Un número complejo $z$ se puede representar en forma cartesiana:\n",
        "$$\\large z = x+ jy$$\n",
        "o en forma polar:\n",
        "$$\\large z = |z| e^{j \\theta}$$\n",
        "\n",
        "donde:\n",
        "- $x$ es la parte real del número complejo y se representa como $Re\\{z\\}$.\n",
        "- $y$ es la parte imaginaria del número complejo y se representa como $Im\\{z\\}$.\n",
        "- $|z|$ es la magnitud del número complejo.\n",
        "- $\\theta$ es el ángulo del número complejo, que puede estar en grados $[°]$ o en radianes $[rad]$.\n",
        "<br><br>\n",
        "\n",
        "### 1.2. Forma cartesiana - forma polar\n",
        "\n",
        "Las ecuaciones para pasar de la forma cartesiana a la forma polar son:\n",
        "- De cartesiana a polar:\n",
        "\n",
        "$$\\large |z| = \\sqrt{x^2 + y^2}$$ <br>\n",
        "$$\\large \\theta = tan^{-1} \\left( \\frac{y}{x} \\right)$$\n",
        "\n",
        "- De polar a cartesiana:\n",
        "\n",
        "$$\\large x = |z|cos(\\theta)$$<br>\n",
        "$$\\large y = |z|sin(\\theta)$$\n",
        "\n",
        "Un número complejo $z$ también puede representarse en forma polar abreviada como:\n",
        "\n",
        "$$\\large z = |z| \\angle \\theta \\$$\n",
        "\n",
        "que representa un número complejo tal como se presentó en la sección anterior:\n",
        "\n",
        "$$\\large z = |z| \\angle \\theta = |z| e^{j \\theta} = x + jy $$\n",
        "<br>\n",
        "\n",
        "Por ejemplo, $z = 4 \\angle 35^\\circ$ representa un número complejo que tiene una magnitud de $4$ y un ángulo de $35^\\circ$ (grados).\n",
        "<br><br>\n",
        "\n",
        "### 1.3. Ejemplo:\n",
        "\n",
        "Representar el número complejo $z = 2 + \\, j3$ en forma polar.\n",
        "<br><br>\n",
        "Tenemos, $x = 2$, $y = 3$, para hallar la magnitud y la fase:\n",
        "<br><br>\n",
        "$$|z| = \\sqrt{2^2 + 3^2} = \\sqrt{4 + 9} = \\sqrt{13} = 3.61$$\n",
        "<br>\n",
        "$$\\theta = tan^{-1} \\, (3/2) = tan^{-1} \\, (1.5) = 53.31^\\circ = 0.98 \\, rad $$\n",
        "<br>\n",
        "En forma polar abreviada se representa como:\n",
        "$$z = 3.61 \\angle 53.31^\\circ $$\n",
        "\n",
        "La gráfica del número complejo:"
      ]
    },
    {
      "cell_type": "code",
      "metadata": {
        "id": "TD634mufrAj9",
        "colab": {
          "base_uri": "https://localhost:8080/",
          "height": 355
        },
        "outputId": "4e7c7d1f-806e-4c02-bdab-4f456af959c3"
      },
      "source": [
        "#@title {display-mode: \"form\"}\n",
        "import matplotlib.pyplot as plt\n",
        "import matplotlib.patches as mpatches\n",
        "\n",
        "fig, ax = plt.subplots(figsize=(5, 5))\n",
        "ax.axis([0,5,0,5])\n",
        "ax.grid()\n",
        "plt.plot([0, 2], [0, 3], 'r-', lw=4)\n",
        "ax.scatter(2,3,s=150, color='b')\n",
        "plt.plot([0, 2], [0, 0], 'k-', lw=4)\n",
        "plt.plot([0.05, 0.05], [0.05, 3], 'k-', lw=4)\n",
        "pac = mpatches.Arc([0, 0], 0.8, 0.8, angle=0, theta1=0, theta2=53, lw=4, color='r')\n",
        "ax.add_patch(pac)\n",
        "\n",
        "ax.annotate('|z|=3.61', xy=(1.2, 1.5), xytext=(1.2, 1.5),size=14,color='r')\n",
        "ax.annotate(r'$\\theta = 53°$', xy=(0.6, 0.6), xytext=(0.6, 0.6),size=14,color='r')\n",
        "ax.annotate('x=2', xy=(1, 0.1), xytext=(1, 0.1),size=14,color='k')\n",
        "ax.annotate('y=3', xy=(0.1, 1.5), xytext=(0.1, 1.5),size=14,color='k')\n",
        "ax.annotate('z= 2 + 3j', xy=(1.6, 3.18), xytext=(1.6, 3.15),size=14,color='b')\n",
        "ax.set_xlabel('Real',fontsize=14)\n",
        "ax.set_ylabel('Imaginario',fontsize=14)\n",
        "ax.set_title('Representación cartesiana y polar', fontsize=14)\n",
        "fig.show()\n"
      ],
      "execution_count": null,
      "outputs": [
        {
          "output_type": "display_data",
          "data": {
            "image/png": "[encoded data removed]",
            "text/plain": [
              "<Figure size 360x360 with 1 Axes>"
            ]
          },
          "metadata": {
            "needs_background": "light"
          }
        }
      ]
    },
    {
      "cell_type": "markdown",
      "metadata": {
        "id": "VHNYjtv061SA"
      },
      "source": [
        "## 2.Fasores con numpy.\n",
        "\n",
        "La librería **numpy** permite trabajar con numeros complejos.\n",
        "\n",
        "Primero se importa la biblioteca:\n"
      ]
    },
    {
      "cell_type": "code",
      "metadata": {
        "id": "QSkvfFeh7VVI"
      },
      "source": [
        "import numpy as np"
      ],
      "execution_count": null,
      "outputs": []
    },
    {
      "cell_type": "markdown",
      "metadata": {
        "id": "yceO6ZBY8r7U"
      },
      "source": [
        "Puede crearse una variable con un único número complejo o un arreglo con varios números complejos:"
      ]
    },
    {
      "cell_type": "code",
      "metadata": {
        "id": "LwmEhmnK98xy",
        "colab": {
          "base_uri": "https://localhost:8080/",
          "height": 34
        },
        "outputId": "276f4820-fa03-496e-96cb-fb32701befc5"
      },
      "source": [
        "z = 2 + 3j\n",
        "arreglo = np.array([1+2j,2+3j,2+0.3j])\n",
        "print(arreglo)"
      ],
      "execution_count": null,
      "outputs": [
        {
          "output_type": "stream",
          "text": [
            "[1.+2.j  2.+3.j  2.+0.3j]\n"
          ],
          "name": "stdout"
        }
      ]
    },
    {
      "cell_type": "markdown",
      "metadata": {
        "id": "Iv78nwigBBB-"
      },
      "source": [
        "El número $\\pi$:"
      ]
    },
    {
      "cell_type": "code",
      "metadata": {
        "id": "9o9X3xJ0BAP8",
        "colab": {
          "base_uri": "https://localhost:8080/",
          "height": 34
        },
        "outputId": "7ea0dfde-5cf1-4589-e4bf-049268e379c9"
      },
      "source": [
        "np.pi"
      ],
      "execution_count": null,
      "outputs": [
        {
          "output_type": "execute_result",
          "data": {
            "text/plain": [
              "3.141592653589793"
            ]
          },
          "metadata": {
            "tags": []
          },
          "execution_count": 8
        }
      ]
    },
    {
      "cell_type": "markdown",
      "metadata": {
        "id": "Zy0FuFN--SYQ"
      },
      "source": [
        "Sean $z_1$ y $z_2$ dos números complejos:\n",
        "- $z_1 = 2 + 3j$\n",
        "- $z_2 = 4 + 5j$\n",
        "\n",
        "Puede obtenerse la parte real, imaginaria, la magnitud, la fase y el complejo conjugado de los dos números complejos:"
      ]
    },
    {
      "cell_type": "code",
      "metadata": {
        "id": "tJEomwUCBMdm",
        "colab": {
          "base_uri": "https://localhost:8080/",
          "height": 102
        },
        "outputId": "0840afab-3c9a-4c25-e513-e487b5900d0b"
      },
      "source": [
        "z1 = 2 + 3J\n",
        "z2 = 4 + 5j\n",
        "print('Magnitudes       : %2.3f ; %2.3f' % (np.abs(z1),np.abs(z2)))\n",
        "print('Ángulos          : %2.3f ; %2.3f radianes' % (np.angle(z1),np.angle(z2)))\n",
        "print('Parte real       : %2.3f ; %2.3f' % (np.real(z1),np.real(z2)))\n",
        "print('Parte imaginaria : %2.3f ; %2.3f' % (np.imag(z1),np.imag(z2)))\n",
        "print('Conjugados       :', np.conj(z1),';',np.conj(z2))"
      ],
      "execution_count": null,
      "outputs": [
        {
          "output_type": "stream",
          "text": [
            "Magnitudes       : 3.606 ; 6.403\n",
            "Ángulos          : 0.983 ; 0.896 radianes\n",
            "Parte real       : 2.000 ; 4.000\n",
            "Parte imaginaria : 3.000 ; 5.000\n",
            "Conjugados       : (2-3j) ; (4-5j)\n"
          ],
          "name": "stdout"
        }
      ]
    },
    {
      "cell_type": "markdown",
      "metadata": {
        "id": "K-RvhwQt_gPG"
      },
      "source": [
        "Pueden realizarse operaciones básicas entre números complejos:"
      ]
    },
    {
      "cell_type": "code",
      "metadata": {
        "id": "SKo3Sbf6-Ylr",
        "colab": {
          "base_uri": "https://localhost:8080/",
          "height": 102
        },
        "outputId": "90fd8906-68da-402b-ccd0-167262048b98"
      },
      "source": [
        "z1 = 2 + 3j\n",
        "z2 = 4 + 5j\n",
        "print('Suma:           ',z1+z2)\n",
        "print('Resta:          ',z1-z2)\n",
        "print('Multiplicación: ',z1*z2)\n",
        "print('División:       ',z1/z2)\n",
        "print('Potenciación:   ',z1**2)"
      ],
      "execution_count": null,
      "outputs": [
        {
          "output_type": "stream",
          "text": [
            "Suma:            (6+8j)\n",
            "Resta:           (-2-2j)\n",
            "Multiplicación:  (-7+22j)\n",
            "División:        (0.5609756097560976+0.0487804878048781j)\n",
            "Potenciación:    (-5+12j)\n"
          ],
          "name": "stdout"
        }
      ]
    },
    {
      "cell_type": "markdown",
      "metadata": {
        "id": "9OPHXz2MAsb1"
      },
      "source": [
        "Pueden aplicarse otras funciones:"
      ]
    },
    {
      "cell_type": "code",
      "metadata": {
        "id": "o7WAT6aV_tGg",
        "colab": {
          "base_uri": "https://localhost:8080/",
          "height": 102
        },
        "outputId": "a9bdb861-cf26-4662-e0c8-d95709f11421"
      },
      "source": [
        "z = 2 + 3j\n",
        "print('coseno         : ', np.cos(z))\n",
        "print('seno           : ', np.sin(z))\n",
        "print('exponenciación : ', np.exp(z))\n",
        "print('raiz           : ', np.sqrt(z))\n",
        "print('tangente       : ', np.tan(z))\n"
      ],
      "execution_count": null,
      "outputs": [
        {
          "output_type": "stream",
          "text": [
            "coseno         :  (-4.189625690968807-9.109227893755337j)\n",
            "seno           :  (9.15449914691143-4.168906959966565j)\n",
            "exponenciación :  (-7.315110094901103+1.0427436562359045j)\n",
            "raiz           :  (1.6741492280355401+0.8959774761298381j)\n",
            "tangente       :  (-0.0037640256415042484+1.0032386273536096j)\n"
          ],
          "name": "stdout"
        }
      ]
    },
    {
      "cell_type": "markdown",
      "metadata": {
        "id": "vPjgPhDQ0Q9D"
      },
      "source": [
        "## 3.Representación fasorial.\n",
        "\n",
        "Un fasor representa una oscilación o una señal senoidales cuando es afectada por sistemas lineales.\n",
        "\n",
        "Por ejemplo, para representar la siguiente señal de voltaje:\n",
        "\n",
        "$$\\large v(t) = V_0 \\, cos(\\omega t + \\theta) $$\n",
        "\n",
        "se expresa el coseno en forma exponencial compleja:\n",
        "\n",
        "$$cos(\\omega t + \\theta) = Re\\{e^{j(\\omega t + \\theta)}\\} = Re\\{e^{j \\theta} e^{j\\omega t} \\}$$\n",
        "\n",
        "reemplazando en la ecuación de la señal de voltaje:\n",
        "\n",
        "$$\\large v(t) = \\, Re\\{(V_0e^{j \\theta}) e^{j\\omega t} \\} $$\n",
        "\n",
        "donde el fasor del voltaje es:\n",
        "$$\\large \\hat V = V_0e^{j \\theta}$$\n",
        "\n",
        "obteniendo:\n",
        "$$\\large v(t) = \\, Re\\{\\hat V e^{j\\omega t} \\} $$\n",
        "\n",
        "La ventaja de operar con el fasor es que los sistemas lineales solo afectan la amplitud (en este caso $V_0$) y la fase (en este caso $\\theta$) sin alterar la frecuencia de la señal $\\omega$. Esto simplifica la expresión de las operaciones matemáticas al operar con sistemas lineales.\n",
        "\n",
        "Por ejemplo, un sistema afecta a una señal de frecuencia $\\omega=200 \\, [rad/s]$ de la siguiente forma:\n",
        "- la amplitud la multiplica por $0.3$\n",
        "- la fase la atrasa por  $30^\\circ$\n",
        "<br><br>\n",
        "\n",
        "En este caso, la respuesta del sistema puede representarse como:\n",
        "$$\\large H = 0.3 e^{j(-30^\\circ)}$$\n",
        "Si la seña de entrada es:\n",
        "$$\\large x(t) = 10 \\, cos(200t - 20^\\circ)$$\n",
        "que en forma fasorial sería:\n",
        "$$X = 10 e^{j(-20^\\circ)}$$\n",
        "La salida del sistema puede calcularse como:\n",
        "$$Y = XH = (10 e^{j(-20^\\circ)})(0.3 e^{j(-30^\\circ)})= 3e^{j(-50^\\circ)}$$\n",
        "que equivale a:\n",
        "$$\\large y(t) = 3 \\, cos(200t - 50^\\circ)$$\n",
        "Solo se afecta la amplitud y la fase de la señal, sin afectar su frecuencia, ya que es un sistema lineal.\n",
        "\n",
        "\n",
        "\n",
        "\n",
        "\n",
        "\n",
        "\n",
        "\n"
      ]
    }
  ]
}